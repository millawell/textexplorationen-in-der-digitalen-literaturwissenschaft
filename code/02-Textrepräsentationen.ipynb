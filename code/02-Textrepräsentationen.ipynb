{
 "cells": [
  {
   "cell_type": "code",
   "execution_count": 1,
   "id": "727682ab",
   "metadata": {},
   "outputs": [],
   "source": [
    "import json\n",
    "\n",
    "from pathlib import Path\n",
    "from functools import partial\n",
    "from collections import Counter\n",
    "from bisect import bisect_left\n",
    "\n",
    "import numpy as np\n",
    "import pandas as pd\n",
    "import matplotlib.pyplot as plt\n",
    "from scipy.sparse import coo_array\n",
    "from tqdm.notebook import tqdm\n",
    "from spacy.lang.de import German\n",
    "from gensim.models import Word2Vec\n",
    "\n",
    "from sklearn.model_selection import train_test_split\n",
    "from sklearn.pipeline import Pipeline\n",
    "from sklearn.preprocessing import StandardScaler\n",
    "from sklearn.linear_model import LogisticRegression\n",
    "from sklearn.metrics import classification_report, f1_score\n",
    "\n",
    "* visualisierung von bow?"
   ]
  },
  {
   "cell_type": "code",
   "execution_count": 26,
   "id": "8ac22d98",
   "metadata": {},
   "outputs": [],
   "source": [
    "def iter_docs(in_path):\n",
    "    with open(in_path, \"r\") as in_file:\n",
    "        for iline, line in tqdm(enumerate(in_file), desc=\"load documents\"):\n",
    "            data = json.loads(line)\n",
    "            yield data\n",
    "            if iline > 3 and DEBUG:\n",
    "                break\n",
    "            \n",
    "            \n",
    "def iter_sents(docs):\n",
    "    for doc in docs:\n",
    "        text = doc['text']\n",
    "        for isent, sent in tqdm(enumerate(nlp(text).sents), desc=\"load sentences\"):\n",
    "            sentence = []\n",
    "            for token in sent:\n",
    "                sentence.append(token.text)\n",
    "            yield {\n",
    "                'text': sentence,\n",
    "                'sentence_id': isent,\n",
    "                **{k:v for k,v in doc.items() if k!='text'}\n",
    "            }\n",
    "            if isent > 100 and DEBUG:\n",
    "                break\n",
    "                \n",
    "def iter_chunks(docs, n_tokens=100):\n",
    "    for doc in docs:\n",
    "        tokenized = [t.text for t in nlp(doc['text'])]\n",
    "        for i in range(0, len(tokenized), n_tokens):\n",
    "            yield {\n",
    "                'text': tokenized[i:i + n_tokens],\n",
    "                **{k:v for k,v in doc.items() if k!='text'}\n",
    "            }\n",
    "            if i > 100//n_tokens and DEBUG:\n",
    "                break"
   ]
  },
  {
   "cell_type": "code",
   "execution_count": 3,
   "id": "da49330b",
   "metadata": {},
   "outputs": [
    {
     "data": {
      "application/vnd.jupyter.widget-view+json": {
       "model_id": "5632edcd757f403d888207065cf45f50",
       "version_major": 2,
       "version_minor": 0
      },
      "text/plain": [
       "load documents: 0it [00:00, ?it/s]"
      ]
     },
     "metadata": {},
     "output_type": "display_data"
    }
   ],
   "source": [
    "preprocessed_data_fn = Path(\"processed_data\") / \"eltec.jsonl\"\n",
    "DEBUG = True\n",
    "\n",
    "nlp = German()\n",
    "nlp.add_pipe(\"sentencizer\")\n",
    "\n",
    "for doc in iter_docs(preprocessed_data_fn):\n",
    "    if len(doc['text']) >= nlp.max_length:\n",
    "        nlp.max_length = len(doc['text'])+1"
   ]
  },
  {
   "cell_type": "markdown",
   "id": "ffd577e6",
   "metadata": {},
   "source": [
    "## One-Hot"
   ]
  },
  {
   "cell_type": "code",
   "execution_count": 4,
   "id": "2594694d",
   "metadata": {},
   "outputs": [
    {
     "data": {
      "application/vnd.jupyter.widget-view+json": {
       "model_id": "c37ef87fa0e4489aa8b96cdc18d361fa",
       "version_major": 2,
       "version_minor": 0
      },
      "text/plain": [
       "load documents: 0it [00:00, ?it/s]"
      ]
     },
     "metadata": {},
     "output_type": "display_data"
    }
   ],
   "source": [
    "vocab, counts = zip(\n",
    "    *Counter(\n",
    "        [token.text for doc in iter_docs(preprocessed_data_fn) for token in nlp(doc['text'])]\n",
    "    ).most_common(10000)\n",
    ")\n",
    "vocab = sorted(vocab)"
   ]
  },
  {
   "cell_type": "code",
   "execution_count": 5,
   "id": "3b78946a",
   "metadata": {},
   "outputs": [
    {
     "data": {
      "application/vnd.jupyter.widget-view+json": {
       "model_id": "938c5e36cbfe4349839038acde2e3330",
       "version_major": 2,
       "version_minor": 0
      },
      "text/plain": [
       "load documents: 0it [00:00, ?it/s]"
      ]
     },
     "metadata": {},
     "output_type": "display_data"
    },
    {
     "data": {
      "application/vnd.jupyter.widget-view+json": {
       "model_id": "e1dab39af3dc48c4b172c44a2fc5148f",
       "version_major": 2,
       "version_minor": 0
      },
      "text/plain": [
       "load sentences: 0it [00:00, ?it/s]"
      ]
     },
     "metadata": {},
     "output_type": "display_data"
    },
    {
     "data": {
      "text/plain": [
       "<7x10000 sparse array of type '<class 'numpy.int64'>'\n",
       "\twith 6 stored elements in COOrdinate format>"
      ]
     },
     "execution_count": 5,
     "metadata": {},
     "output_type": "execute_result"
    }
   ],
   "source": [
    "def get_index(query, vocab):\n",
    "    'Locate the leftmost value exactly equal to x'\n",
    "    i = bisect_left(vocab, query)\n",
    "    if i != len(vocab) and vocab[i] == query:\n",
    "        return i\n",
    "    raise ValueError\n",
    "\n",
    "def iter_embed_1hot(vocab, docs):\n",
    "    for doc in docs:\n",
    "        doc_i = []\n",
    "        doc_j = []\n",
    "        doc_data = []\n",
    "        for itoken, token in enumerate(doc['text']):\n",
    "            try:\n",
    "                token_index = get_index(token, vocab)\n",
    "                doc_i.append(itoken)\n",
    "                doc_j.append(token_index)\n",
    "                doc_data.append(1)\n",
    "            except ValueError:\n",
    "                pass\n",
    "        yield coo_array((\n",
    "            np.array(doc_data), \n",
    "            (\n",
    "                np.array(doc_i, dtype=int),\n",
    "                np.array(doc_j, dtype=int)\n",
    "            )\n",
    "        ), shape=(itoken+1, len(vocab)))\n",
    "\n",
    "for embedding in iter_embed_1hot(vocab, iter_sents(iter_docs(preprocessed_data_fn))):\n",
    "    break\n",
    "embedding"
   ]
  },
  {
   "cell_type": "markdown",
   "id": "d142084d",
   "metadata": {},
   "source": [
    "## Bag of Words"
   ]
  },
  {
   "cell_type": "code",
   "execution_count": 6,
   "id": "1a2623e5",
   "metadata": {},
   "outputs": [
    {
     "data": {
      "application/vnd.jupyter.widget-view+json": {
       "model_id": "0cae3440f20d48a9a8fe209e5b95880d",
       "version_major": 2,
       "version_minor": 0
      },
      "text/plain": [
       "load documents: 0it [00:00, ?it/s]"
      ]
     },
     "metadata": {},
     "output_type": "display_data"
    },
    {
     "data": {
      "application/vnd.jupyter.widget-view+json": {
       "model_id": "6ee6d99db5b84472aebe136cda93bb3d",
       "version_major": 2,
       "version_minor": 0
      },
      "text/plain": [
       "load sentences: 0it [00:00, ?it/s]"
      ]
     },
     "metadata": {},
     "output_type": "display_data"
    },
    {
     "data": {
      "text/plain": [
       "array([0, 0, 0, ..., 0, 0, 0])"
      ]
     },
     "execution_count": 6,
     "metadata": {},
     "output_type": "execute_result"
    }
   ],
   "source": [
    "def iter_embed_bow(vocab, docs):\n",
    "    for one_hot in iter_embed_1hot(vocab, docs):\n",
    "        yield one_hot.sum(axis=0)\n",
    "\n",
    "for embedding in iter_embed_bow(vocab, iter_sents(iter_docs(preprocessed_data_fn))):\n",
    "    break\n",
    "embedding"
   ]
  },
  {
   "cell_type": "markdown",
   "id": "0b780644",
   "metadata": {},
   "source": [
    "## Word 2 Vec"
   ]
  },
  {
   "cell_type": "code",
   "execution_count": 7,
   "id": "57a07d84",
   "metadata": {},
   "outputs": [
    {
     "data": {
      "application/vnd.jupyter.widget-view+json": {
       "model_id": "3b951301a4114d9fb37182cc29a0b742",
       "version_major": 2,
       "version_minor": 0
      },
      "text/plain": [
       "load documents: 0it [00:00, ?it/s]"
      ]
     },
     "metadata": {},
     "output_type": "display_data"
    },
    {
     "data": {
      "application/vnd.jupyter.widget-view+json": {
       "model_id": "9d60e36ed1da4d55bd8e0433142c7de6",
       "version_major": 2,
       "version_minor": 0
      },
      "text/plain": [
       "load sentences: 0it [00:00, ?it/s]"
      ]
     },
     "metadata": {},
     "output_type": "display_data"
    },
    {
     "data": {
      "application/vnd.jupyter.widget-view+json": {
       "model_id": "9124fc0a8bb140c483e24fdaf4b6af5f",
       "version_major": 2,
       "version_minor": 0
      },
      "text/plain": [
       "load sentences: 0it [00:00, ?it/s]"
      ]
     },
     "metadata": {},
     "output_type": "display_data"
    },
    {
     "data": {
      "application/vnd.jupyter.widget-view+json": {
       "model_id": "4f4de8aa8352420eabaafff830816027",
       "version_major": 2,
       "version_minor": 0
      },
      "text/plain": [
       "load sentences: 0it [00:00, ?it/s]"
      ]
     },
     "metadata": {},
     "output_type": "display_data"
    },
    {
     "data": {
      "application/vnd.jupyter.widget-view+json": {
       "model_id": "116d909439ff4209813f3dbb36a5beb8",
       "version_major": 2,
       "version_minor": 0
      },
      "text/plain": [
       "load sentences: 0it [00:00, ?it/s]"
      ]
     },
     "metadata": {},
     "output_type": "display_data"
    },
    {
     "data": {
      "application/vnd.jupyter.widget-view+json": {
       "model_id": "0d8fb99f06114bfdb311dcbe2ae18b5b",
       "version_major": 2,
       "version_minor": 0
      },
      "text/plain": [
       "load sentences: 0it [00:00, ?it/s]"
      ]
     },
     "metadata": {},
     "output_type": "display_data"
    }
   ],
   "source": [
    "class W2VDataset:\n",
    "    def __init__(self, generator_factory):\n",
    "        self.generator_factory = generator_factory\n",
    "        self.length = None\n",
    " \n",
    "    def __iter__(self):\n",
    "        generator = self.generator_factory()\n",
    "        i=0\n",
    "        for i, it in enumerate(generator):\n",
    "            yield it['text']\n",
    "            \n",
    "        self.length = i+1\n",
    "            \n",
    "    def __len__(self):\n",
    "        if self.length is not None:\n",
    "            return self.length\n",
    "        \n",
    "        self.length = len([_ for _ in self])\n",
    "        return self.length\n",
    "        \n",
    "\n",
    "def train_w2v(vector_size=50, window=5, min_count=1, max_vocab_size=10000):\n",
    "\n",
    "    w2vdataset = W2VDataset(\n",
    "        partial(\n",
    "            iter_sents, \n",
    "            iter_docs(preprocessed_data_fn)\n",
    "        )\n",
    "    )\n",
    "\n",
    "    model = Word2Vec(\n",
    "        sentences=w2vdataset,\n",
    "        vector_size=vector_size,\n",
    "        window=window,\n",
    "        min_count=min_count,\n",
    "        max_vocab_size=max_vocab_size,\n",
    "        workers=4\n",
    "    )\n",
    "\n",
    "    model.train(\n",
    "        w2vdataset,\n",
    "        total_examples=len(w2vdataset),\n",
    "        epochs=2\n",
    "    )\n",
    "\n",
    "    wv = model.wv\n",
    "\n",
    "    vocab = wv.index_to_key\n",
    "    vocab = sorted(vocab)\n",
    "\n",
    "    vecs = [wv[it] for it in vocab]\n",
    "\n",
    "    return pd.DataFrame(data=vecs, index=vocab)\n",
    "\n",
    "def iter_embed_w2v(vecs, docs):\n",
    "    for doc in docs:\n",
    "        doc_representation = []\n",
    "        for itoken, token in enumerate(doc['text']):\n",
    "            try:\n",
    "                doc_representation.append(vecs.loc[token])\n",
    "            except KeyError:\n",
    "                pass # some tokens are not embedded\n",
    "        yield np.vstack(doc_representation).mean(axis=0)\n",
    "            \n",
    "w2vs = train_w2v()"
   ]
  },
  {
   "cell_type": "code",
   "execution_count": 8,
   "id": "5dde4b7f",
   "metadata": {},
   "outputs": [
    {
     "data": {
      "application/vnd.jupyter.widget-view+json": {
       "model_id": "ac2399c853524993ad69d7f23a0d23d3",
       "version_major": 2,
       "version_minor": 0
      },
      "text/plain": [
       "load documents: 0it [00:00, ?it/s]"
      ]
     },
     "metadata": {},
     "output_type": "display_data"
    },
    {
     "data": {
      "application/vnd.jupyter.widget-view+json": {
       "model_id": "99dfc7bdc662416f9df5329fcc099379",
       "version_major": 2,
       "version_minor": 0
      },
      "text/plain": [
       "load sentences: 0it [00:00, ?it/s]"
      ]
     },
     "metadata": {},
     "output_type": "display_data"
    },
    {
     "data": {
      "text/plain": [
       "array([ 2.7373247e-04,  7.2854906e-03, -5.1993844e-03,  5.0230632e-03,\n",
       "        1.2092715e-03,  1.1218805e-04, -5.5743949e-03, -5.1842397e-03,\n",
       "        3.1515904e-04,  3.1842445e-03,  2.2177775e-03,  7.5706281e-04,\n",
       "       -5.2672531e-04,  5.4775341e-03,  3.9532171e-03,  1.1914975e-03,\n",
       "        3.6298714e-03,  4.2449124e-04, -1.1749525e-03,  5.4250224e-03,\n",
       "        1.0548354e-03, -1.8847699e-03,  2.9134203e-03,  3.6376982e-03,\n",
       "        1.1144866e-02,  5.0928834e-04,  4.5575765e-03,  4.0103616e-03,\n",
       "        9.3402639e-03, -1.0714171e-03, -1.2632079e-03, -4.4532050e-03,\n",
       "        8.6910330e-04,  8.4126099e-05, -4.9049342e-03, -2.6495350e-03,\n",
       "        1.1115774e-02,  5.0631003e-03,  5.8988333e-03,  1.0165824e-02,\n",
       "        7.4725291e-03, -2.3734423e-03, -5.9106094e-03,  1.8854730e-03,\n",
       "       -1.0577255e-02, -2.8110829e-03,  1.0663941e-02, -7.2936271e-03,\n",
       "        4.0689502e-03,  6.1968309e-03], dtype=float32)"
      ]
     },
     "execution_count": 8,
     "metadata": {},
     "output_type": "execute_result"
    }
   ],
   "source": [
    "for embedding in iter_embed_w2v(w2vs, iter_sents(iter_docs(preprocessed_data_fn))):\n",
    "    break\n",
    "embedding"
   ]
  },
  {
   "cell_type": "markdown",
   "id": "5dc7d95f",
   "metadata": {},
   "source": [
    "## Authorship attribution"
   ]
  },
  {
   "cell_type": "code",
   "execution_count": 24,
   "id": "5bee3233",
   "metadata": {},
   "outputs": [],
   "source": [
    "def train_simple_classifier(iterator, label_string):\n",
    "    \n",
    "    data = list(iterator)\n",
    "    labels = [it[label_string] for it in data]\n",
    "    features = np.vstack(list(iter_embed_bow(vocab, data)))\n",
    "    \n",
    "    train_features, test_features, train_labels, test_labels = train_test_split(features, labels)\n",
    "\n",
    "    clf = Pipeline([\n",
    "            (\"scaler\", StandardScaler()),\n",
    "            (\"classifier\", LogisticRegression(random_state=13198)),\n",
    "    ])\n",
    "    \n",
    "    \n",
    "    clf = clf.fit(train_features, train_labels)\n",
    "    \n",
    "    \n",
    "    pred_labels = clf.predict(test_features)\n",
    "    \n",
    "    return f1_score(test_labels, pred_labels, average='macro')"
   ]
  },
  {
   "cell_type": "code",
   "execution_count": 25,
   "id": "5340d8fa",
   "metadata": {},
   "outputs": [
    {
     "data": {
      "application/vnd.jupyter.widget-view+json": {
       "model_id": "adaae8140ce8432e847e1ab1139a45e1",
       "version_major": 2,
       "version_minor": 0
      },
      "text/plain": [
       "load documents: 0it [00:00, ?it/s]"
      ]
     },
     "metadata": {},
     "output_type": "display_data"
    },
    {
     "data": {
      "text/plain": [
       "0.3333333333333333"
      ]
     },
     "execution_count": 25,
     "metadata": {},
     "output_type": "execute_result"
    }
   ],
   "source": [
    "train_simple_classifier(iter_chunks(iter_docs(preprocessed_data_fn)), 'author-name')"
   ]
  },
  {
   "cell_type": "code",
   "execution_count": 27,
   "id": "7b867794",
   "metadata": {
    "scrolled": false
   },
   "outputs": [
    {
     "data": {
      "application/vnd.jupyter.widget-view+json": {
       "model_id": "b3014d7f730c446abdb39525685eb5d2",
       "version_major": 2,
       "version_minor": 0
      },
      "text/plain": [
       "load documents: 0it [00:00, ?it/s]"
      ]
     },
     "metadata": {},
     "output_type": "display_data"
    },
    {
     "data": {
      "application/vnd.jupyter.widget-view+json": {
       "model_id": "25b804712b9547eaae9b8422be9dfdcd",
       "version_major": 2,
       "version_minor": 0
      },
      "text/plain": [
       "load documents: 0it [00:00, ?it/s]"
      ]
     },
     "metadata": {},
     "output_type": "display_data"
    },
    {
     "data": {
      "application/vnd.jupyter.widget-view+json": {
       "model_id": "a4e1e9d197cf4a86b6101c376c4a6201",
       "version_major": 2,
       "version_minor": 0
      },
      "text/plain": [
       "load documents: 0it [00:00, ?it/s]"
      ]
     },
     "metadata": {},
     "output_type": "display_data"
    },
    {
     "data": {
      "application/vnd.jupyter.widget-view+json": {
       "model_id": "d8af7d6e35524607ae8fb6666917987e",
       "version_major": 2,
       "version_minor": 0
      },
      "text/plain": [
       "load documents: 0it [00:00, ?it/s]"
      ]
     },
     "metadata": {},
     "output_type": "display_data"
    }
   ],
   "source": [
    "scores = []\n",
    "chunk_sizes = [5, 10, 100, 1000]\n",
    "\n",
    "for chunk_size in chunk_sizes:\n",
    "    iterator = iter_chunks(iter_docs(preprocessed_data_fn), n_tokens=chunk_size)\n",
    "    scores.append(\n",
    "        train_simple_classifier(iterator, 'author-name')\n",
    "    )"
   ]
  },
  {
   "cell_type": "code",
   "execution_count": 28,
   "id": "780519ee",
   "metadata": {},
   "outputs": [
    {
     "data": {
      "image/png": "[encoded data removed]",
      "text/plain": [
       "<Figure size 432x288 with 1 Axes>"
      ]
     },
     "metadata": {
      "needs_background": "light"
     },
     "output_type": "display_data"
    }
   ],
   "source": [
    "fig, ax = plt.subplots()\n",
    "ax.plot(chunk_sizes, scores, label=\"f1_score\")\n",
    "ax.set_xlabel(\"n_tokens\")\n",
    "ax.set_ylabel(\"f1_score\")\n",
    "plt.show()"
   ]
  }
 ],
 "metadata": {
  "kernelspec": {
   "display_name": "Python (main-env)",
   "language": "python",
   "name": "main-env"
  },
  "language_info": {
   "codemirror_mode": {
    "name": "ipython",
    "version": 3
   },
   "file_extension": ".py",
   "mimetype": "text/x-python",
   "name": "python",
   "nbconvert_exporter": "python",
   "pygments_lexer": "ipython3",
   "version": "3.9.10"
  }
 },
 "nbformat": 4,
 "nbformat_minor": 5
}
